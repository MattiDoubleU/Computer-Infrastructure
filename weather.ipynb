{
 "cells": [
  {
   "cell_type": "markdown",
   "metadata": {},
   "source": [
    "# **Part 1: Tasks.**\n",
    "The following paragraphs provide the names of each task, along with a brief description and the commands used in the Bash terminal on Linux Virtual Machine in Github Codespaces to complete them."
   ]
  },
  {
   "cell_type": "markdown",
   "metadata": {},
   "source": [
    "## 1.1 Create Directory Structure.\n",
    "As per instructions created a directory named **data** at the root of the repository **Computer-Infrastructure** ```➜ /workspaces/Computer-Infrastructure/```and inside **data**, two subdirectories: **timestamps** and **weather**. \n",
    "Commands:\n",
    "\n",
    "```bash\n",
    "mkdir -p data/timestamps\n",
    "mkdir -p data/weather"
   ]
  },
  {
   "cell_type": "markdown",
   "metadata": {},
   "source": [
    "```-p``` ensures that the parent directory (data) is created if it doesn't already exist."
   ]
  },
  {
   "cell_type": "markdown",
   "metadata": {},
   "source": [
    "## 1.2 Timestamps.\n",
    "Used the ```date``` command to output the current date and time inside the **data/timestamps** folder, appending the output to a file named **now.txt**. In order to append the file the ```>>``` operator was used. Repeated this step ten times, then verfied contents of **now.txt** using the ```more``` command:\n",
    "\n",
    "```bash\n",
    "date >> now.txt\n",
    "more now.txt"
   ]
  },
  {
   "cell_type": "markdown",
   "metadata": {},
   "source": [
    "## 1.3 Formatting Timestamps.\n",
    "```date``` command was run again, but this time the output format was YYYYmmdd_HHMMSS (e.g.,20241127_220039, 22:00:39 on Nov.27th 2024) and was appended to a file named **formatted.txt**. Commands:\n",
    "```bash\n",
    "date +\"%Y%m%d_%H%M%S\" >> formatted.txt\n",
    "man date"
   ]
  },
  {
   "cell_type": "markdown",
   "metadata": {},
   "source": [
    "```man date``` displays and briefly describes all commands that can be used with ```date``` . For example:\n",
    "- %F = full date; same as %Y-%m-%d  \n",
    "- %T = time; same as %H:%M:%S  \n",
    "  \n",
    "therefore\n",
    "```bash\n",
    "date +\"%F_%T\" >> formatted.txt  \n",
    "```  \n",
    "will append this time format to **formatted.txt**: 2024-12-02_19:42:50 (time of writing)."
   ]
  },
  {
   "cell_type": "markdown",
   "metadata": {},
   "source": [
    "## 1.4 Create Timestamped Files.\n",
    "In order to create timestamped files without using ```>>``` redirection embedded ```date```command in backticks:\n",
    "```bash\n",
    "touch `date +\"%Y%m%d_%H%M%S\"`.txt   "
   ]
  },
  {
   "cell_type": "markdown",
   "metadata": {},
   "source": [
    "## 1.5 Download Today's Weather Data.\n",
    "In this task it was requested to download the latest weather data for the Athenry weather station URL: https://prodapi.metweb.ie/observations/athenry/today from Met Eireann using wget. The -O <filename> option had to be used to save the file as weather.json:\n",
    "```bash\n",
    "wget -O weather.json https://prodapi.metweb.ie/observations/athenry/today\n",
    "```\n",
    "```wget``` is a command-line utility for downloading files from the web.  \n",
    "```-O``` stands for output and specifies the name of the file where the downloaded content should be saved.\n"
   ]
  },
  {
   "cell_type": "markdown",
   "metadata": {},
   "source": [
    "## 1.6 Timestamp the Data.\n",
    "The command from previous task had to be modified to save the downloaded file with a timestamped name in the format YYYYmmdd_HHMMSS.json. This was achieved by replacing ```weather.json``` from above command with ```\"$(date +\"%Y%m%d_%H%M%S\").json\"```:\n",
    "\n",
    "```bash\n",
    "wget -O \"$(date +\"%Y%m%d_%H%M%S\").json\" https://prodapi.metweb.ie/observations/athenry/today\n"
   ]
  },
  {
   "cell_type": "markdown",
   "metadata": {},
   "source": [
    "## 1.7 Write the script.\n",
    "A bash script called ```weather.sh``` was created at the root of the repository **Computer-Infrastructure** ```➜ /workspaces/Computer-Infrastructure/```. This script had to automate the process from 1.6, saving the weather data to the data/weather directory. This task was completed by running a series of commands:  \n",
    "1. ```touch weather.sh``` to create ```weather.sh```.   \n",
    "2. ```cat > weather.sh``` interactive method for adding content. \n",
    "3. Subsequently entered the following lines, then Ctrl + D to save and finish the operation:\n",
    "```bash\n",
    "#! /bin/bash\n",
    "\n",
    " date\n",
    " echo \"Downloading weather data\"\n",
    " wget -O data/weather/`date +\"%Y%m%d_%H%M%S.json\"` https://prodapi.metweb.ie/observations/athenry/today\n",
    " echo \"Weather data downloaded\"\n",
    " date\n",
    " ```\n",
    "4. ```chmod +x weather.sh``` to make the file executable.\n",
    "\n",
    "\n",
    "\n",
    "\n"
   ]
  },
  {
   "cell_type": "markdown",
   "metadata": {},
   "source": [
    "# **Part 2: Weather Analysis**\n",
    "### A brief glance at Athenry's weather data as per metweb.ie.\n",
    "In this section, the knowledge gained from the tasks in Part 1 is applied to a real-world scenario.\n",
    "## 2.1 Import data frame."
   ]
  },
  {
   "cell_type": "code",
   "execution_count": 26,
   "metadata": {},
   "outputs": [],
   "source": [
    "# Data frames\n",
    "import pandas as pd"
   ]
  },
  {
   "cell_type": "markdown",
   "metadata": {},
   "source": [
    "## 2.2 Collecting the data."
   ]
  },
  {
   "cell_type": "markdown",
   "metadata": {},
   "source": [
    "```bash\n",
    "#! /bin/bash\n",
    "\n",
    " date\n",
    " echo \"Downloading weather data\"\n",
    " wget -O data/weather/`date +\"%Y%m%d_%H%M%S.json\"` https://prodapi.metweb.ie/observations/athenry/today\n",
    " echo \"Weather data downloaded\"\n",
    " date\n",
    "```"
   ]
  },
  {
   "cell_type": "markdown",
   "metadata": {},
   "source": [
    "Data is collected via metweb.ie's API and stored as JSON file in the following format YearMonthDay_HourMinuteSecond (e.g 20241127_220039, collected on Nov.27th 2024 at 22:00 39)"
   ]
  },
  {
   "cell_type": "markdown",
   "metadata": {},
   "source": [
    "## 2.3 Anayzing the data.\n",
    "### 2.3.1 Using Pandas to arrange and output the data for lean usability:"
   ]
  },
  {
   "cell_type": "code",
   "execution_count": 27,
   "metadata": {},
   "outputs": [],
   "source": [
    "# Read the data.\n",
    "df = pd.read_json('data/weather/20241127_220039.json')"
   ]
  },
  {
   "cell_type": "markdown",
   "metadata": {},
   "source": [
    "### 2.3.2 Let's have a look at the head of the data (5 top lines):"
   ]
  },
  {
   "cell_type": "code",
   "execution_count": 28,
   "metadata": {},
   "outputs": [
    {
     "data": {
      "text/html": [
       "<div>\n",
       "<style scoped>\n",
       "    .dataframe tbody tr th:only-of-type {\n",
       "        vertical-align: middle;\n",
       "    }\n",
       "\n",
       "    .dataframe tbody tr th {\n",
       "        vertical-align: top;\n",
       "    }\n",
       "\n",
       "    .dataframe thead th {\n",
       "        text-align: right;\n",
       "    }\n",
       "</style>\n",
       "<table border=\"1\" class=\"dataframe\">\n",
       "  <thead>\n",
       "    <tr style=\"text-align: right;\">\n",
       "      <th></th>\n",
       "      <th>name</th>\n",
       "      <th>temperature</th>\n",
       "      <th>symbol</th>\n",
       "      <th>weatherDescription</th>\n",
       "      <th>text</th>\n",
       "      <th>windSpeed</th>\n",
       "      <th>windGust</th>\n",
       "      <th>cardinalWindDirection</th>\n",
       "      <th>windDirection</th>\n",
       "      <th>humidity</th>\n",
       "      <th>rainfall</th>\n",
       "      <th>pressure</th>\n",
       "      <th>dayName</th>\n",
       "      <th>date</th>\n",
       "      <th>reportTime</th>\n",
       "    </tr>\n",
       "  </thead>\n",
       "  <tbody>\n",
       "    <tr>\n",
       "      <th>0</th>\n",
       "      <td>Athenry</td>\n",
       "      <td>0</td>\n",
       "      <td>15n</td>\n",
       "      <td>Fog / Mist</td>\n",
       "      <td>\"Mist\"</td>\n",
       "      <td>6</td>\n",
       "      <td>-</td>\n",
       "      <td>NE</td>\n",
       "      <td>45</td>\n",
       "      <td>98</td>\n",
       "      <td>0</td>\n",
       "      <td>1015</td>\n",
       "      <td>Wednesday</td>\n",
       "      <td>2024-11-27</td>\n",
       "      <td>00:00</td>\n",
       "    </tr>\n",
       "    <tr>\n",
       "      <th>1</th>\n",
       "      <td>Athenry</td>\n",
       "      <td>0</td>\n",
       "      <td>15n</td>\n",
       "      <td>Fog / Mist</td>\n",
       "      <td>\"Fog thickening\"</td>\n",
       "      <td>6</td>\n",
       "      <td>-</td>\n",
       "      <td>NE</td>\n",
       "      <td>45</td>\n",
       "      <td>99</td>\n",
       "      <td>0</td>\n",
       "      <td>1015</td>\n",
       "      <td>Wednesday</td>\n",
       "      <td>2024-11-27</td>\n",
       "      <td>01:00</td>\n",
       "    </tr>\n",
       "    <tr>\n",
       "      <th>2</th>\n",
       "      <td>Athenry</td>\n",
       "      <td>-1</td>\n",
       "      <td>15n</td>\n",
       "      <td>Fog / Mist</td>\n",
       "      <td>\"Fog\"</td>\n",
       "      <td>2</td>\n",
       "      <td>-</td>\n",
       "      <td>NE</td>\n",
       "      <td>45</td>\n",
       "      <td>98</td>\n",
       "      <td>0</td>\n",
       "      <td>1015</td>\n",
       "      <td>Wednesday</td>\n",
       "      <td>2024-11-27</td>\n",
       "      <td>02:00</td>\n",
       "    </tr>\n",
       "    <tr>\n",
       "      <th>3</th>\n",
       "      <td>Athenry</td>\n",
       "      <td>-2</td>\n",
       "      <td>15n</td>\n",
       "      <td>Fog / Mist</td>\n",
       "      <td>\"Fog thickening\"</td>\n",
       "      <td>6</td>\n",
       "      <td>-</td>\n",
       "      <td>NW</td>\n",
       "      <td>315</td>\n",
       "      <td>98</td>\n",
       "      <td>0</td>\n",
       "      <td>1015</td>\n",
       "      <td>Wednesday</td>\n",
       "      <td>2024-11-27</td>\n",
       "      <td>03:00</td>\n",
       "    </tr>\n",
       "    <tr>\n",
       "      <th>4</th>\n",
       "      <td>Athenry</td>\n",
       "      <td>-3</td>\n",
       "      <td>15n</td>\n",
       "      <td>Fog / Mist</td>\n",
       "      <td>\"Fog\"</td>\n",
       "      <td>6</td>\n",
       "      <td>-</td>\n",
       "      <td>N</td>\n",
       "      <td>0</td>\n",
       "      <td>97</td>\n",
       "      <td>0</td>\n",
       "      <td>1015</td>\n",
       "      <td>Wednesday</td>\n",
       "      <td>2024-11-27</td>\n",
       "      <td>04:00</td>\n",
       "    </tr>\n",
       "  </tbody>\n",
       "</table>\n",
       "</div>"
      ],
      "text/plain": [
       "      name  temperature symbol weatherDescription              text  \\\n",
       "0  Athenry            0    15n         Fog / Mist            \"Mist\"   \n",
       "1  Athenry            0    15n         Fog / Mist  \"Fog thickening\"   \n",
       "2  Athenry           -1    15n         Fog / Mist             \"Fog\"   \n",
       "3  Athenry           -2    15n         Fog / Mist  \"Fog thickening\"   \n",
       "4  Athenry           -3    15n         Fog / Mist             \"Fog\"   \n",
       "\n",
       "   windSpeed windGust cardinalWindDirection  windDirection  humidity  \\\n",
       "0          6        -                    NE             45        98   \n",
       "1          6        -                    NE             45        99   \n",
       "2          2        -                    NE             45        98   \n",
       "3          6        -                    NW            315        98   \n",
       "4          6        -                     N              0        97   \n",
       "\n",
       "   rainfall  pressure    dayName       date reportTime  \n",
       "0         0      1015  Wednesday 2024-11-27      00:00  \n",
       "1         0      1015  Wednesday 2024-11-27      01:00  \n",
       "2         0      1015  Wednesday 2024-11-27      02:00  \n",
       "3         0      1015  Wednesday 2024-11-27      03:00  \n",
       "4         0      1015  Wednesday 2024-11-27      04:00  "
      ]
     },
     "execution_count": 28,
     "metadata": {},
     "output_type": "execute_result"
    }
   ],
   "source": [
    "# Show.\n",
    "df.head()"
   ]
  },
  {
   "cell_type": "markdown",
   "metadata": {},
   "source": [
    "### 2.3.3 Summary of descriptive statistics:"
   ]
  },
  {
   "cell_type": "code",
   "execution_count": 29,
   "metadata": {},
   "outputs": [
    {
     "data": {
      "text/html": [
       "<div>\n",
       "<style scoped>\n",
       "    .dataframe tbody tr th:only-of-type {\n",
       "        vertical-align: middle;\n",
       "    }\n",
       "\n",
       "    .dataframe tbody tr th {\n",
       "        vertical-align: top;\n",
       "    }\n",
       "\n",
       "    .dataframe thead th {\n",
       "        text-align: right;\n",
       "    }\n",
       "</style>\n",
       "<table border=\"1\" class=\"dataframe\">\n",
       "  <thead>\n",
       "    <tr style=\"text-align: right;\">\n",
       "      <th></th>\n",
       "      <th>temperature</th>\n",
       "      <th>windSpeed</th>\n",
       "      <th>windDirection</th>\n",
       "      <th>humidity</th>\n",
       "      <th>rainfall</th>\n",
       "      <th>pressure</th>\n",
       "      <th>date</th>\n",
       "    </tr>\n",
       "  </thead>\n",
       "  <tbody>\n",
       "    <tr>\n",
       "      <th>count</th>\n",
       "      <td>22.000000</td>\n",
       "      <td>22.000000</td>\n",
       "      <td>22.000000</td>\n",
       "      <td>22.0000</td>\n",
       "      <td>22.0</td>\n",
       "      <td>22.000000</td>\n",
       "      <td>22</td>\n",
       "    </tr>\n",
       "    <tr>\n",
       "      <th>mean</th>\n",
       "      <td>-1.363636</td>\n",
       "      <td>4.636364</td>\n",
       "      <td>98.181818</td>\n",
       "      <td>98.0000</td>\n",
       "      <td>0.0</td>\n",
       "      <td>1018.136364</td>\n",
       "      <td>2024-11-27 00:00:00</td>\n",
       "    </tr>\n",
       "    <tr>\n",
       "      <th>min</th>\n",
       "      <td>-3.000000</td>\n",
       "      <td>2.000000</td>\n",
       "      <td>0.000000</td>\n",
       "      <td>96.0000</td>\n",
       "      <td>0.0</td>\n",
       "      <td>1015.000000</td>\n",
       "      <td>2024-11-27 00:00:00</td>\n",
       "    </tr>\n",
       "    <tr>\n",
       "      <th>25%</th>\n",
       "      <td>-2.000000</td>\n",
       "      <td>2.000000</td>\n",
       "      <td>0.000000</td>\n",
       "      <td>97.2500</td>\n",
       "      <td>0.0</td>\n",
       "      <td>1015.250000</td>\n",
       "      <td>2024-11-27 00:00:00</td>\n",
       "    </tr>\n",
       "    <tr>\n",
       "      <th>50%</th>\n",
       "      <td>-1.000000</td>\n",
       "      <td>4.000000</td>\n",
       "      <td>67.500000</td>\n",
       "      <td>98.0000</td>\n",
       "      <td>0.0</td>\n",
       "      <td>1018.500000</td>\n",
       "      <td>2024-11-27 00:00:00</td>\n",
       "    </tr>\n",
       "    <tr>\n",
       "      <th>75%</th>\n",
       "      <td>-0.250000</td>\n",
       "      <td>6.000000</td>\n",
       "      <td>123.750000</td>\n",
       "      <td>99.0000</td>\n",
       "      <td>0.0</td>\n",
       "      <td>1020.000000</td>\n",
       "      <td>2024-11-27 00:00:00</td>\n",
       "    </tr>\n",
       "    <tr>\n",
       "      <th>max</th>\n",
       "      <td>0.000000</td>\n",
       "      <td>9.000000</td>\n",
       "      <td>315.000000</td>\n",
       "      <td>99.0000</td>\n",
       "      <td>0.0</td>\n",
       "      <td>1022.000000</td>\n",
       "      <td>2024-11-27 00:00:00</td>\n",
       "    </tr>\n",
       "    <tr>\n",
       "      <th>std</th>\n",
       "      <td>1.135801</td>\n",
       "      <td>2.300009</td>\n",
       "      <td>113.363569</td>\n",
       "      <td>0.9759</td>\n",
       "      <td>0.0</td>\n",
       "      <td>2.550359</td>\n",
       "      <td>NaN</td>\n",
       "    </tr>\n",
       "  </tbody>\n",
       "</table>\n",
       "</div>"
      ],
      "text/plain": [
       "       temperature  windSpeed  windDirection  humidity  rainfall     pressure  \\\n",
       "count    22.000000  22.000000      22.000000   22.0000      22.0    22.000000   \n",
       "mean     -1.363636   4.636364      98.181818   98.0000       0.0  1018.136364   \n",
       "min      -3.000000   2.000000       0.000000   96.0000       0.0  1015.000000   \n",
       "25%      -2.000000   2.000000       0.000000   97.2500       0.0  1015.250000   \n",
       "50%      -1.000000   4.000000      67.500000   98.0000       0.0  1018.500000   \n",
       "75%      -0.250000   6.000000     123.750000   99.0000       0.0  1020.000000   \n",
       "max       0.000000   9.000000     315.000000   99.0000       0.0  1022.000000   \n",
       "std       1.135801   2.300009     113.363569    0.9759       0.0     2.550359   \n",
       "\n",
       "                      date  \n",
       "count                   22  \n",
       "mean   2024-11-27 00:00:00  \n",
       "min    2024-11-27 00:00:00  \n",
       "25%    2024-11-27 00:00:00  \n",
       "50%    2024-11-27 00:00:00  \n",
       "75%    2024-11-27 00:00:00  \n",
       "max    2024-11-27 00:00:00  \n",
       "std                    NaN  "
      ]
     },
     "execution_count": 29,
     "metadata": {},
     "output_type": "execute_result"
    }
   ],
   "source": [
    "# Show.\n",
    "df.describe()"
   ]
  },
  {
   "cell_type": "markdown",
   "metadata": {},
   "source": [
    "- count: Number of non-missing values.\n",
    "- mean: Average value.\n",
    "- std: Standard deviation.\n",
    "- min: Minimum value.\n",
    "- 25%: First quartile (25th percentile).\n",
    "- 50%: Median (50th percentile).\n",
    "- 75%: Third quartile (75th percentile).\n",
    "- max: Maximum value."
   ]
  },
  {
   "cell_type": "markdown",
   "metadata": {},
   "source": [
    "### 2.3.4 Overview of the DataFrame's structure and contents:"
   ]
  },
  {
   "cell_type": "code",
   "execution_count": 30,
   "metadata": {},
   "outputs": [
    {
     "name": "stdout",
     "output_type": "stream",
     "text": [
      "<class 'pandas.core.frame.DataFrame'>\n",
      "RangeIndex: 22 entries, 0 to 21\n",
      "Data columns (total 15 columns):\n",
      " #   Column                 Non-Null Count  Dtype         \n",
      "---  ------                 --------------  -----         \n",
      " 0   name                   22 non-null     object        \n",
      " 1   temperature            22 non-null     int64         \n",
      " 2   symbol                 22 non-null     object        \n",
      " 3   weatherDescription     22 non-null     object        \n",
      " 4   text                   22 non-null     object        \n",
      " 5   windSpeed              22 non-null     int64         \n",
      " 6   windGust               22 non-null     object        \n",
      " 7   cardinalWindDirection  22 non-null     object        \n",
      " 8   windDirection          22 non-null     int64         \n",
      " 9   humidity               22 non-null     int64         \n",
      " 10  rainfall               22 non-null     int64         \n",
      " 11  pressure               22 non-null     int64         \n",
      " 12  dayName                22 non-null     object        \n",
      " 13  date                   22 non-null     datetime64[ns]\n",
      " 14  reportTime             22 non-null     object        \n",
      "dtypes: datetime64[ns](1), int64(6), object(8)\n",
      "memory usage: 2.7+ KB\n",
      "None\n"
     ]
    }
   ],
   "source": [
    "print(df.info())\n"
   ]
  },
  {
   "cell_type": "markdown",
   "metadata": {},
   "source": [
    "We learn that the data set has 14 columns with 22 entries each which are data type object(8), int64(6) as well as datetime64(1)\n",
    "Interesting is also the display of total memory usage of the DataFrame: 2.7+ KB."
   ]
  },
  {
   "cell_type": "markdown",
   "metadata": {},
   "source": [
    "Let's print the data:"
   ]
  },
  {
   "cell_type": "code",
   "execution_count": null,
   "metadata": {},
   "outputs": [
    {
     "name": "stdout",
     "output_type": "stream",
     "text": [
      "       name  temperature symbol weatherDescription              text  windSpeed windGust cardinalWindDirection  windDirection  humidity  rainfall  pressure    dayName       date reportTime\n",
      "0   Athenry            0    15n         Fog / Mist            \"Mist\"          6        -                    NE             45        98         0      1015  Wednesday 2024-11-27      00:00\n",
      "1   Athenry            0    15n         Fog / Mist  \"Fog thickening\"          6        -                    NE             45        99         0      1015  Wednesday 2024-11-27      01:00\n",
      "2   Athenry           -1    15n         Fog / Mist             \"Fog\"          2        -                    NE             45        98         0      1015  Wednesday 2024-11-27      02:00\n",
      "3   Athenry           -2    15n         Fog / Mist  \"Fog thickening\"          6        -                    NW            315        98         0      1015  Wednesday 2024-11-27      03:00\n",
      "4   Athenry           -3    15n         Fog / Mist             \"Fog\"          6        -                     N              0        97         0      1015  Wednesday 2024-11-27      04:00\n",
      "5   Athenry           -3    15n         Fog / Mist  \"Fog thickening\"          2        -                    NW            315        98         0      1015  Wednesday 2024-11-27      05:00\n",
      "6   Athenry           -2    15n         Fog / Mist  \"Fog thickening\"          4        -                     N              0        98         0      1016  Wednesday 2024-11-27      06:00\n",
      "7   Athenry           -3    15n         Fog / Mist    \"Fog thinning\"          4        -                    NW            315        98         0      1016  Wednesday 2024-11-27      07:00\n",
      "8   Athenry           -3    15d         Fog / Mist  \"Fog thickening\"          2        -                     N              0        97         0      1017  Wednesday 2024-11-27      08:00\n",
      "9   Athenry           -3    15d         Fog / Mist    \"Fog thinning\"          4        -                     N              0        97         0      1018  Wednesday 2024-11-27      09:00\n",
      "10  Athenry           -2    15d         Fog / Mist  \"Fog thickening\"          4        -                    SE            135        99         0      1018  Wednesday 2024-11-27      10:00\n",
      "11  Athenry           -1    15d         Fog / Mist    \"Fog thinning\"          2        -                     N              0        98         0      1019  Wednesday 2024-11-27      11:00\n",
      "12  Athenry           -1    15d         Fog / Mist             \"Fog\"          2        -                    NW            315        99         0      1019  Wednesday 2024-11-27      12:00\n",
      "13  Athenry            0    15d         Fog / Mist             \"Fog\"          4        -                     N              0        99         0      1019  Wednesday 2024-11-27      13:00\n",
      "14  Athenry            0    15d         Fog / Mist             \"Fog\"          2        -                     N              0        99         0      1020  Wednesday 2024-11-27      14:00\n",
      "15  Athenry            0    15d         Fog / Mist  \"Fog thickening\"          2        -                    SE            135        99         0      1020  Wednesday 2024-11-27      15:00\n",
      "16  Athenry            0    15d         Fog / Mist             \"Fog\"          6        -                     E             90        99         0      1020  Wednesday 2024-11-27      16:00\n",
      "17  Athenry           -1    15n         Fog / Mist    \"Fog thinning\"          6        -                     E             90        99         0      1021  Wednesday 2024-11-27      17:00\n",
      "18  Athenry           -1    15n         Fog / Mist      \"Recent Fog\"          9        -                    NE             45        98         0      1021  Wednesday 2024-11-27      18:00\n",
      "19  Athenry           -1    15n         Fog / Mist            \"Mist\"          7        -                     E             90        97         0      1021  Wednesday 2024-11-27      19:00\n",
      "20  Athenry           -1    02n               Fair            \"Fair\"          9        -                     E             90        96         0      1022  Wednesday 2024-11-27      20:00\n",
      "21  Athenry           -2    02n               Fair            \"Fair\"          7        -                     E             90        96         0      1022  Wednesday 2024-11-27      21:00\n"
     ]
    }
   ],
   "source": [
    "pd.set_option('display.width', 1000) # Printing column next to each other\n",
    "print(df)"
   ]
  },
  {
   "cell_type": "markdown",
   "metadata": {},
   "source": [
    "### 2.4 Summary\n",
    "This file contains a collection of hourly weather observations from the synoptic station in Athenry, Co. Galway, for November 27th. The data, collected at 22:00 local time, provides 22 entries for each of the following variables: station name, dry bulb temperature (in whole degrees Celsius), weather description, windspeed (in knots), cardinal wind direction, relative humidity (percentage), rainfall (in millimeters), mean sea level pressure (in millibars), day of the week, date, and time of observation. November 27th was notably cold, with temperatures ranging from 0°C to below freezing. The day remained dry with no recorded rainfall but experienced fog to thick fog. Weather conditions were otherwise stable due to consistently high air pressure exceeding 1015 millibars throughout the day."
   ]
  },
  {
   "cell_type": "markdown",
   "metadata": {},
   "source": [
    "### End."
   ]
  }
 ],
 "metadata": {
  "kernelspec": {
   "display_name": "Python 3",
   "language": "python",
   "name": "python3"
  },
  "language_info": {
   "codemirror_mode": {
    "name": "ipython",
    "version": 3
   },
   "file_extension": ".py",
   "mimetype": "text/x-python",
   "name": "python",
   "nbconvert_exporter": "python",
   "pygments_lexer": "ipython3",
   "version": "3.12.7"
  }
 },
 "nbformat": 4,
 "nbformat_minor": 2
}
